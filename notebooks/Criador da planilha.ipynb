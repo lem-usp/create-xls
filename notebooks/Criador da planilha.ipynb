{
 "metadata": {
  "name": ""
 },
 "nbformat": 3,
 "nbformat_minor": 0,
 "worksheets": [
  {
   "cells": [
    {
     "cell_type": "code",
     "collapsed": false,
     "input": [
      "import xlwt\n",
      "import ordereddict as od"
     ],
     "language": "python",
     "metadata": {},
     "outputs": [],
     "prompt_number": 5
    },
    {
     "cell_type": "code",
     "collapsed": false,
     "input": [
      "od.OrderedDict([('e', 1), ('b', 2)])"
     ],
     "language": "python",
     "metadata": {},
     "outputs": [
      {
       "metadata": {},
       "output_type": "pyout",
       "prompt_number": 6,
       "text": [
        "OrderedDict([('e', 1), ('b', 2)])"
       ]
      }
     ],
     "prompt_number": 6
    },
    {
     "cell_type": "code",
     "collapsed": false,
     "input": [
      "header = 'Andinomys'\n",
      "num_measurents = 10\n",
      "vistas = od.OrderedDict([('Vista A', ['IS', 'NSL']), \n",
      "                         ('Vista Z', ['BA', 'OPI'])])\n",
      "\n",
      "pontos_sagital = ['IS', 'NSL', 'NA', 'Mx', 'PA', 'PNS', 'VO', 'BA', 'OPI', 'IN', 'LD', 'BR']\n",
      "pontos\n"
     ],
     "language": "python",
     "metadata": {},
     "outputs": [],
     "prompt_number": 93
    },
    {
     "cell_type": "code",
     "collapsed": false,
     "input": [
      "new_xls = xlwt.Workbook()"
     ],
     "language": "python",
     "metadata": {},
     "outputs": [],
     "prompt_number": 94
    },
    {
     "cell_type": "code",
     "collapsed": false,
     "input": [
      "data = new_xls.add_sheet('Dados')"
     ],
     "language": "python",
     "metadata": {},
     "outputs": [],
     "prompt_number": 95
    },
    {
     "cell_type": "code",
     "collapsed": false,
     "input": [
      "# write header\n",
      "data.write(0, 0, header)"
     ],
     "language": "python",
     "metadata": {},
     "outputs": [],
     "prompt_number": 96
    },
    {
     "cell_type": "code",
     "collapsed": false,
     "input": [
      "line = 1\n",
      "line_inc = 0\n",
      "\n",
      "for n in range(1, num_measurents+1):\n",
      "    line += line_inc\n",
      "    # Escreve o n\u00famero do experimento\n",
      "    data.write(line, 0, n)\n",
      "    \n",
      "    for i, vista in enumerate(vistas.items()):\n",
      "        v = vista[0]\n",
      "        ps = vista[1]\n",
      "\n",
      "        vista_col = 2 + i*8\n",
      "        data.write(line, vista_col, v)\n",
      "        data.write(line, 3 + i*8, 'X')\n",
      "        data.write(line, 4 + i*8, 'Y')\n",
      "        data.write(line, 5 + i*8, 'Z')\n",
      "        data.write(line, 6 + i*8, 'X')\n",
      "        data.write(line, 7 + i*8, 'Y')\n",
      "        data.write(line, 8 + i*8, 'Z')\n",
      "        \n",
      "        for pi, p in enumerate(ps, line + 1):\n",
      "            data.write(pi, vista_col, p)\n",
      "            \n",
      "        line_inc = 1 + max([len(v) for v in vistas.values()])\n"
     ],
     "language": "python",
     "metadata": {},
     "outputs": [
      {
       "output_type": "stream",
       "stream": "stdout",
       "text": [
        "Vista A\n",
        "Vista Z\n",
        "Vista A\n",
        "Vista Z\n",
        "Vista A\n",
        "Vista Z\n",
        "Vista A\n",
        "Vista Z\n",
        "Vista A\n",
        "Vista Z\n",
        "Vista A\n",
        "Vista Z\n",
        "Vista A\n",
        "Vista Z\n",
        "Vista A\n",
        "Vista Z\n",
        "Vista A\n",
        "Vista Z\n",
        "Vista A\n",
        "Vista Z\n"
       ]
      }
     ],
     "prompt_number": 100
    },
    {
     "cell_type": "code",
     "collapsed": false,
     "input": [
      "new_xls.save('test.xls')"
     ],
     "language": "python",
     "metadata": {},
     "outputs": [],
     "prompt_number": 101
    },
    {
     "cell_type": "code",
     "collapsed": false,
     "input": [
      "list(range(1,2))"
     ],
     "language": "python",
     "metadata": {},
     "outputs": [
      {
       "metadata": {},
       "output_type": "pyout",
       "prompt_number": 72,
       "text": [
        "[1]"
       ]
      }
     ],
     "prompt_number": 72
    },
    {
     "cell_type": "code",
     "collapsed": false,
     "input": [
      "enumerate"
     ],
     "language": "python",
     "metadata": {},
     "outputs": []
    }
   ],
   "metadata": {}
  }
 ]
}