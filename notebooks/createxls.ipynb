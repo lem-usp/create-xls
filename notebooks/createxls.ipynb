{
 "metadata": {
  "name": ""
 },
 "nbformat": 3,
 "nbformat_minor": 0,
 "worksheets": [
  {
   "cells": [
    {
     "cell_type": "code",
     "collapsed": false,
     "input": [
      "from itertools import chain\n",
      "\n",
      "n_measurements = 1\n",
      "points = {}\n",
      "dists  = {}\n",
      "\n",
      "# Import points\n",
      "\n",
      "points['dorsal'] = ['IS', 'NSL']\n",
      "points['ventral'] = ['IS', 'NSL']\n",
      "\n",
      "\n",
      "points_cells = {}\n",
      "dists_cells = {}\n",
      "\n",
      "header_line = 1\n",
      "info_col = 1\n",
      "vistas_col = info_col + 1\n",
      "n_vistas = len(points.keys())\n",
      "n_dists = len(dists.keys())\n",
      "dists_col = vistas_col + 8*n_vistas\n",
      "rep_col = dists_col + 5*n_dists\n",
      "\n",
      "# Maximum number of points in a vista\n",
      "max_n_points = max([len(ps) for ps in chain(points.items(), dists.items())])\n",
      "\n",
      "line = header_line + 1\n",
      "# Write header\n",
      "\n",
      "for mi in range(n_measurements):\n",
      "\n",
      "    line += mi*max_n_points\n",
      "\n",
      "    # Create points tables\n",
      "    for vi, vista in enumerate(points.keys()):\n",
      "        vi_col = vistas_col + 8*vi\n",
      "        for pi, p in enumerate(points[vista]):\n",
      "            # Write point p in (line + pi, vi_col)\n",
      "            pass\n",
      "        \n",
      "    # Create distances tables\n",
      "    for vi, vista in enumerate(dists.keys()):\n",
      "        vi_col = dists_col + 5*vi\n",
      "        for di, d in enumerate(dists[vista]):\n",
      "            # Write distance d in (line + di, vi_col) \n",
      "            pass\n",
      "        \n",
      "    # Create repeatability tables\n",
      "    for vi, vista in enumerate(dists.keys()):\n",
      "        for di, d in enumerate(dists[vista]):\n",
      "            # Write\n",
      "            pass\n",
      "        \n",
      "    # Create final data table\n",
      "        \n"
     ],
     "language": "python",
     "metadata": {},
     "outputs": [],
     "prompt_number": 8
    },
    {
     "cell_type": "code",
     "collapsed": false,
     "input": [
      "q"
     ],
     "language": "python",
     "metadata": {},
     "outputs": []
    }
   ],
   "metadata": {}
  }
 ]
}