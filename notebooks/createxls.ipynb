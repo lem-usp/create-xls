{
 "metadata": {
  "name": ""
 },
 "nbformat": 3,
 "nbformat_minor": 0,
 "worksheets": [
  {
   "cells": [
    {
     "cell_type": "code",
     "collapsed": false,
     "input": [
      "import xlwt\n",
      "from itertools import chain\n",
      "import pandas as pd\n",
      "\n",
      "n_measurements = 3\n",
      "points_desc_filename = '../points-desc.csv'\n",
      "points = {}\n",
      "dists  = {}\n",
      "rep_dists = {}\n",
      "\n",
      "# Import points\n",
      "\n",
      "points_desc = pd.read_csv(points_desc_filename, sep=';', keep_default_na=False)\n",
      "\n",
      "points['dorsal'] = points_desc['ponto.dorsal'][points_desc['ponto.dorsal'] != '']\n",
      "points['ventral'] = points_desc['ponto.ventral'][points_desc['ponto.ventral'] != '']\n",
      "dists['dorsal'] = points_desc['controle.dorsal'].dropna().map(lambda x: x.split('.')).values\n",
      "dists['ventral'] = points_desc['controle.dorsal'].dropna().map(lambda x: x.split('.')).values\n",
      "rep_dists['dorsal'] = points_desc['calc.dist.dorsal'].dropna().map(lambda x: x.split('.')).values\n",
      "rep_dists['ventral'] = points_desc['calc.dist.ventral'].dropna().map(lambda x: x.split('.')).values\n",
      "final_dists = points_desc['seq.dist.mx'].dropna().map(lambda x: x.split('.')).values\n",
      "\n",
      "points_cells = {}\n",
      "dists_cells = {}\n",
      "\n",
      "header_line = 1\n",
      "info_col = 1\n",
      "vistas_col = info_col + 1\n",
      "n_vistas = len(points.keys())\n",
      "n_dists = len(dists.keys())\n",
      "dists_col = vistas_col + 7*n_vistas\n",
      "rep_col = dists_col + 4*n_dists\n",
      "final_dists_col = rep_col + 3*n_vistas\n",
      "\n",
      "# Maximum number of points in a vista\n",
      "max_n_points = max([len(ps) for ps in chain(points.values(), dists.values())] + [len(final_dists)])\n",
      "line = -1\n",
      "\n",
      "new_xls = xlwt.Workbook()\n",
      "data = new_xls.add_sheet('Dados')\n",
      "# Write header\n",
      "\n",
      "def write_header(info, line, data, dists, points):\n",
      "\n",
      "    data.write(line, 0, info)\n",
      "\n",
      "    for vi, vista in enumerate(points.keys()):\n",
      "        data.write(line, vistas_col + 7*vi, vista)\n",
      "        data.write(line, vistas_col + 7*vi + 1, 'x')\n",
      "        data.write(line, vistas_col + 7*vi + 2, 'y')\n",
      "        data.write(line, vistas_col + 7*vi + 3, 'z')\n",
      "        data.write(line, vistas_col + 7*vi + 4, 'x')\n",
      "        data.write(line, vistas_col + 7*vi + 5, 'y')\n",
      "        data.write(line, vistas_col + 7*vi + 6, 'z')\n",
      "    \n",
      "    for vi, vista in enumerate(dists.keys()):\n",
      "        data.write(line, dists_col + 4*vi, \"dist. \" + vista)\n",
      "        data.write(line, dists_col + 4*vi + 1, 'Medida 1')\n",
      "        data.write(line, dists_col + 4*vi + 2, 'Medida 2')\n",
      "        data.write(line, dists_col + 4*vi + 3, u'Diferen\u00e7a')\n",
      "        \n",
      "    for vi, vista in enumerate(rep_dists.keys()):\n",
      "        data.write(line, rep_col + 3*vi, \"dist. \" + vista)\n",
      "        data.write(line, rep_col + 3*vi + 1, 'Medida 1')\n",
      "        data.write(line, rep_col + 3*vi + 2, 'Medida 2')\n",
      "   \n",
      "    data.write(line, final_dists_col, 'Dist. Final')\n",
      "    data.write(line, final_dists_col + 1, 'Valor')\n",
      "    \n",
      "for mi in range(n_measurements):\n",
      "    \n",
      "    line += mi*max_n_points + 2\n",
      "    write_header(mi, line - 1, data, dists, points)\n",
      "    \n",
      "    # Create points tables\n",
      "    for vi, vista in enumerate(points.keys()):\n",
      "        vi_col = vistas_col + 7*vi\n",
      "        for pi, p in enumerate(points[vista]):\n",
      "            # Write point p in (line + pi, vi_col)\n",
      "            data.write(line + pi, vi_col, p)\n",
      "    \n",
      "    # Create distances tables\n",
      "    for vi, vista in enumerate(dists.keys()):\n",
      "        vi_col = dists_col + 4*vi\n",
      "        for di, d in enumerate(dists[vista]):\n",
      "            # Write distance d in (line + di, vi_col) \n",
      "            data.write(line + di, vi_col, '-'.join(d))\n",
      "        \n",
      "    # Create repeatability tables\n",
      "    for vi, vista in enumerate(rep_dists.keys()):\n",
      "        vi_col = rep_col + 3*vi\n",
      "        for di, d in enumerate(rep_dists[vista]):\n",
      "            # Write\n",
      "            data.write(line + di, vi_col, '-'.join(d))\n",
      "        \n",
      "    # Create final data table\n",
      "    for di, d in enumerate(final_dists):\n",
      "        data.write(line + di, final_dists_col, '-'.join(d))\n",
      "\n"
     ],
     "language": "python",
     "metadata": {},
     "outputs": [],
     "prompt_number": 50
    },
    {
     "cell_type": "code",
     "collapsed": false,
     "input": [
      "new_xls.save('new.xls')"
     ],
     "language": "python",
     "metadata": {},
     "outputs": [],
     "prompt_number": 67
    },
    {
     "cell_type": "code",
     "collapsed": false,
     "input": [
      "points_desc['ponto.dorsal'][points_desc['ponto.dorsal'] != '']"
     ],
     "language": "python",
     "metadata": {},
     "outputs": [
      {
       "metadata": {},
       "output_type": "pyout",
       "prompt_number": 48,
       "text": [
        "0        IS\n",
        "1       NSL\n",
        "2        NA\n",
        "3       LAe\n",
        "4       ZSe\n",
        "5       ZIe\n",
        "6       FMe\n",
        "7       FTe\n",
        "8       OCe\n",
        "9       PTe\n",
        "10     TSPe\n",
        "11      LAd\n",
        "12      ZSd\n",
        "13      ZId\n",
        "14      FMd\n",
        "15      FTd\n",
        "16      OCd\n",
        "17      PTd\n",
        "18     TSPd\n",
        "19       BR\n",
        "20       LD\n",
        "21       IN\n",
        "22       BA\n",
        "23      OPI\n",
        "24      ASe\n",
        "25    PEAMe\n",
        "26     EAMe\n",
        "27      ASd\n",
        "28    PEAMd\n",
        "29     EAMd\n",
        "Name: ponto.dorsal, dtype: object"
       ]
      }
     ],
     "prompt_number": 48
    },
    {
     "cell_type": "code",
     "collapsed": false,
     "input": [
      "pontos_desc['controle.dorsal'].dropna().map(lambda x: x.split('.')).values"
     ],
     "language": "python",
     "metadata": {},
     "outputs": [
      {
       "metadata": {},
       "output_type": "pyout",
       "prompt_number": 25,
       "text": [
        "array([['IS', 'NSL'], ['NSL', 'NA'], ['NSL', 'ZSe'], ['NSL', 'ZSd'],\n",
        "       ['NSL', 'ZIe'], ['NSL', 'ZId'], ['NA', 'BR'], ['NA', 'FMe'],\n",
        "       ['FMe', 'FTe'], ['FMd', 'FTd'], ['NA', 'FMd'], ['BR', 'PTe'],\n",
        "       ['BR', 'PTd'], ['PTe', 'FMe'], ['PTd', 'FMd'], ['PTe', 'EAMe'],\n",
        "       ['PTd', 'EAMd'], ['PTe', 'TSPe'], ['PTd', 'TSPd'], ['FMe', 'ZSe'],\n",
        "       ['FMd', 'ZSd'], ['ZSe', 'ZIe'], ['ZSd', 'ZId'], ['ZIe', 'TSPe'],\n",
        "       ['ZId', 'TSPd'], ['BA', 'EAMe'], ['BA', 'EAMd'], ['LD', 'ASe'],\n",
        "       ['LD', 'ASd'], ['BR', 'LD'], ['OPI', 'LD'], ['PTe', 'ASe'],\n",
        "       ['PTd', 'ASd'], ['IN', 'IS']], dtype=object)"
       ]
      }
     ],
     "prompt_number": 25
    },
    {
     "cell_type": "code",
     "collapsed": false,
     "input": [
      "dists"
     ],
     "language": "python",
     "metadata": {},
     "outputs": [
      {
       "metadata": {},
       "output_type": "pyout",
       "prompt_number": 27,
       "text": [
        "{'dorsal': array([['IS', 'NSL'], ['NSL', 'NA'], ['NSL', 'ZSe'], ['NSL', 'ZSd'],\n",
        "       ['NSL', 'ZIe'], ['NSL', 'ZId'], ['NA', 'BR'], ['NA', 'FMe'],\n",
        "       ['FMe', 'FTe'], ['FMd', 'FTd'], ['NA', 'FMd'], ['BR', 'PTe'],\n",
        "       ['BR', 'PTd'], ['PTe', 'FMe'], ['PTd', 'FMd'], ['PTe', 'EAMe'],\n",
        "       ['PTd', 'EAMd'], ['PTe', 'TSPe'], ['PTd', 'TSPd'], ['FMe', 'ZSe'],\n",
        "       ['FMd', 'ZSd'], ['ZSe', 'ZIe'], ['ZSd', 'ZId'], ['ZIe', 'TSPe'],\n",
        "       ['ZId', 'TSPd'], ['BA', 'EAMe'], ['BA', 'EAMd'], ['LD', 'ASe'],\n",
        "       ['LD', 'ASd'], ['BR', 'LD'], ['OPI', 'LD'], ['PTe', 'ASe'],\n",
        "       ['PTd', 'ASd'], ['IN', 'IS']], dtype=object),\n",
        " 'ventral': array([['IS', 'NSL'], ['NSL', 'NA'], ['NSL', 'ZSe'], ['NSL', 'ZSd'],\n",
        "       ['NSL', 'ZIe'], ['NSL', 'ZId'], ['NA', 'BR'], ['NA', 'FMe'],\n",
        "       ['FMe', 'FTe'], ['FMd', 'FTd'], ['NA', 'FMd'], ['BR', 'PTe'],\n",
        "       ['BR', 'PTd'], ['PTe', 'FMe'], ['PTd', 'FMd'], ['PTe', 'EAMe'],\n",
        "       ['PTd', 'EAMd'], ['PTe', 'TSPe'], ['PTd', 'TSPd'], ['FMe', 'ZSe'],\n",
        "       ['FMd', 'ZSd'], ['ZSe', 'ZIe'], ['ZSd', 'ZId'], ['ZIe', 'TSPe'],\n",
        "       ['ZId', 'TSPd'], ['BA', 'EAMe'], ['BA', 'EAMd'], ['LD', 'ASe'],\n",
        "       ['LD', 'ASd'], ['BR', 'LD'], ['OPI', 'LD'], ['PTe', 'ASe'],\n",
        "       ['PTd', 'ASd'], ['IN', 'IS']], dtype=object)}"
       ]
      }
     ],
     "prompt_number": 27
    },
    {
     "cell_type": "code",
     "collapsed": false,
     "input": [
      "points_desc.drop()"
     ],
     "language": "python",
     "metadata": {},
     "outputs": [
      {
       "ename": "TypeError",
       "evalue": "drop() takes at least 2 arguments (1 given)",
       "output_type": "pyerr",
       "traceback": [
        "\u001b[1;31m---------------------------------------------------------------------------\u001b[0m\n\u001b[1;31mTypeError\u001b[0m                                 Traceback (most recent call last)",
        "\u001b[1;32m<ipython-input-37-4a15a4af0693>\u001b[0m in \u001b[0;36m<module>\u001b[1;34m()\u001b[0m\n\u001b[1;32m----> 1\u001b[1;33m \u001b[0mpoints_desc\u001b[0m\u001b[1;33m.\u001b[0m\u001b[0mdrop\u001b[0m\u001b[1;33m(\u001b[0m\u001b[1;33m)\u001b[0m\u001b[1;33m\u001b[0m\u001b[0m\n\u001b[0m",
        "\u001b[1;31mTypeError\u001b[0m: drop() takes at least 2 arguments (1 given)"
       ]
      }
     ],
     "prompt_number": 37
    },
    {
     "cell_type": "code",
     "collapsed": false,
     "input": [
      "def get_column_letter(col_idx):\n",
      "    \"\"\"Convert a column number into a column letter (3 -> 'C')\n",
      "\n",
      "    Right shift the column col_idx by 26 to find column letters in reverse\n",
      "    order.  These numbers are 1-based, and can be converted to ASCII\n",
      "    ordinals by adding 64.\n",
      "\n",
      "    \"\"\"\n",
      "    # these indicies corrospond to A -> ZZZ and include all allowed\n",
      "    # columns\n",
      "    if not 0 <= col_idx <= 18278:\n",
      "        msg = 'Column index out of bounds: %s' % col_idx\n",
      "        raise ColumnStringIndexException(msg)\n",
      "    ordinals = []\n",
      "    temp = col_idx\n",
      "    while temp:\n",
      "        quotient, remainder = divmod(temp, 26)\n",
      "        # check for exact division and borrow if needed\n",
      "        if remainder == 0:\n",
      "            quotient -= 1\n",
      "            remainder = 26\n",
      "        ordinals.append(remainder + 64)\n",
      "        temp = quotient\n",
      "    ordinals.reverse()\n",
      "    return ''.join([chr(ordinal) for ordinal in ordinals])\n"
     ],
     "language": "python",
     "metadata": {},
     "outputs": [],
     "prompt_number": 26
    },
    {
     "cell_type": "code",
     "collapsed": false,
     "input": [
      "get_column_letter(1)"
     ],
     "language": "python",
     "metadata": {},
     "outputs": [
      {
       "metadata": {},
       "output_type": "pyout",
       "prompt_number": 29,
       "text": [
        "'A'"
       ]
      }
     ],
     "prompt_number": 29
    },
    {
     "cell_type": "code",
     "collapsed": false,
     "input": [],
     "language": "python",
     "metadata": {},
     "outputs": []
    }
   ],
   "metadata": {}
  }
 ]
}